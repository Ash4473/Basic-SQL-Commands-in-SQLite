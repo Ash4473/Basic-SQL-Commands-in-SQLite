{
 "cells": [
  {
   "cell_type": "markdown",
   "metadata": {},
   "source": [
    "## This script is based on SQL tutorial by [Khan Academy](https://www.khanacademy.org/computing/computer-programming/sql)"
   ]
  },
  {
   "cell_type": "markdown",
   "metadata": {},
   "source": [
    "The code is modified for python script"
   ]
  },
  {
   "cell_type": "markdown",
   "metadata": {},
   "source": [
    "## INDEX"
   ]
  },
  {
   "cell_type": "markdown",
   "metadata": {},
   "source": [
    "[Section1: Creating table in SQL](#sec1)"
   ]
  },
  {
   "cell_type": "markdown",
   "metadata": {},
   "source": [
    "[Section 2: Querying with SQLite](#sec2)"
   ]
  },
  {
   "cell_type": "markdown",
   "metadata": {},
   "source": [
    "[Section3: Using `CASE` to create new variables](#sec3)"
   ]
  },
  {
   "cell_type": "markdown",
   "metadata": {},
   "source": [
    "[Section 4: AGGREGATE FUNCTIONS](#sec4)"
   ]
  },
  {
   "cell_type": "markdown",
   "metadata": {},
   "source": [
    "[Section 5: Subqueries](#sec5)"
   ]
  },
  {
   "cell_type": "markdown",
   "metadata": {},
   "source": [
    "[Section 6: Updating or Deleting Data From rows](#sec6)"
   ]
  },
  {
   "cell_type": "markdown",
   "metadata": {},
   "source": [
    "[Section 7: JOINing related tables](#sec7)"
   ]
  },
  {
   "cell_type": "markdown",
   "metadata": {},
   "source": [
    "[Section 8: Writing Transactions](#sec8)"
   ]
  },
  {
   "cell_type": "markdown",
   "metadata": {},
   "source": [
    "<a id=\"sec1\"></a>"
   ]
  },
  {
   "cell_type": "markdown",
   "metadata": {},
   "source": [
    "### Section 1: Creating table in SQL"
   ]
  },
  {
   "cell_type": "code",
   "execution_count": 36,
   "metadata": {},
   "outputs": [],
   "source": [
    "## setting up connection\n",
    "import sqlite3\n",
    "con= sqlite3.connect('example_sql.db') # Here the data will be stored in example.db\n",
    "# Once you have connection, you can create a Cursor object and call its execute() method to perform SQL commands\n",
    "cur= con.cursor()"
   ]
  },
  {
   "cell_type": "markdown",
   "metadata": {},
   "source": [
    "I'm creating a table called **stock** which has columns- `id` (INT) which is also the *primary key* or unique identifier, `date` (TXT), `trans` (TXT), `symbol` (TXT), `price` (FLOAT)."
   ]
  },
  {
   "cell_type": "code",
   "execution_count": 28,
   "metadata": {},
   "outputs": [
    {
     "data": {
      "text/plain": [
       "<sqlite3.Cursor at 0x10f748a40>"
      ]
     },
     "execution_count": 28,
     "metadata": {},
     "output_type": "execute_result"
    }
   ],
   "source": [
    "# Create a table\n",
    "cur.execute('''CREATE TABLE stock (id integer primary key, date text, trans text, symbol text, qty real, price real) ''')"
   ]
  },
  {
   "cell_type": "code",
   "execution_count": 38,
   "metadata": {},
   "outputs": [
    {
     "data": {
      "text/plain": [
       "<sqlite3.Cursor at 0x10f748500>"
      ]
     },
     "execution_count": 38,
     "metadata": {},
     "output_type": "execute_result"
    }
   ],
   "source": [
    "# Insert a row of data\n",
    "# Make sure it has as many elements as the number of columns created in the table\n",
    "cur.execute(\"INSERT INTO stock VALUES(1, '2006-01-05', 'BUY', 'RHAT', 100, 35.14)\")"
   ]
  },
  {
   "cell_type": "code",
   "execution_count": 39,
   "metadata": {},
   "outputs": [
    {
     "data": {
      "text/plain": [
       "<sqlite3.Cursor at 0x10f748500>"
      ]
     },
     "execution_count": 39,
     "metadata": {},
     "output_type": "execute_result"
    }
   ],
   "source": [
    "## Adding more data points\n",
    "cur.execute(\"INSERT INTO stock VALUES(2, '2006-03-28', 'BUY', 'IBM', 1000, 45.0)\")\n",
    "cur.execute(\"INSERT INTO stock VALUES(3, '2006-04-06', 'SELL', 'IBM', 500, 53.0)\")\n",
    "cur.execute(\"INSERT INTO stock VALUES(4, '2006-04-05', 'BUY', 'MSFT', 1000, 72.2)\")\n",
    "cur.execute(\"INSERT INTO stock VALUES(5, '2006-03-31', 'BUY', 'MSFT', 1000, 10.0)\")"
   ]
  },
  {
   "cell_type": "code",
   "execution_count": 40,
   "metadata": {},
   "outputs": [
    {
     "name": "stdout",
     "output_type": "stream",
     "text": [
      "(1, '2006-01-05', 'BUY', 'RHAT', 100.0, 35.14)\n",
      "(2, '2006-03-28', 'BUY', 'IBM', 1000.0, 45.0)\n",
      "(3, '2006-04-06', 'SELL', 'IBM', 500.0, 53.0)\n",
      "(4, '2006-04-05', 'BUY', 'MSFT', 1000.0, 72.2)\n",
      "(5, '2006-03-31', 'BUY', 'MSFT', 1000.0, 10.0)\n"
     ]
    }
   ],
   "source": [
    "## Looking at the table\n",
    "for row in cur.execute(\"SELECT * FROM stock\"):\n",
    "    print(row)"
   ]
  },
  {
   "cell_type": "code",
   "execution_count": 41,
   "metadata": {},
   "outputs": [
    {
     "data": {
      "text/plain": [
       "[(1, '2006-01-05', 'BUY', 'RHAT', 100.0, 35.14),\n",
       " (2, '2006-03-28', 'BUY', 'IBM', 1000.0, 45.0),\n",
       " (3, '2006-04-06', 'SELL', 'IBM', 500.0, 53.0),\n",
       " (4, '2006-04-05', 'BUY', 'MSFT', 1000.0, 72.2),\n",
       " (5, '2006-03-31', 'BUY', 'MSFT', 1000.0, 10.0)]"
      ]
     },
     "execution_count": 41,
     "metadata": {},
     "output_type": "execute_result"
    }
   ],
   "source": [
    "## Another way to look at the table\n",
    "list(cur.execute(\"SELECT * FROM stock\"))"
   ]
  },
  {
   "cell_type": "code",
   "execution_count": 42,
   "metadata": {},
   "outputs": [
    {
     "name": "stdout",
     "output_type": "stream",
     "text": [
      "[(1, '2006-01-05', 'BUY', 'RHAT', 100.0, 35.14), (2, '2006-03-28', 'BUY', 'IBM', 1000.0, 45.0), (3, '2006-04-06', 'SELL', 'IBM', 500.0, 53.0), (4, '2006-04-05', 'BUY', 'MSFT', 1000.0, 72.2), (5, '2006-03-31', 'BUY', 'MSFT', 1000.0, 10.0)]\n"
     ]
    }
   ],
   "source": [
    "## Third way of looking at the table\n",
    "cur.execute(\"SELECT * FROM stock\")\n",
    "print(cur.fetchall())"
   ]
  },
  {
   "cell_type": "markdown",
   "metadata": {},
   "source": [
    "The above views do not show the column names. In case, you want to fetch column names, use the following command:"
   ]
  },
  {
   "cell_type": "code",
   "execution_count": 52,
   "metadata": {},
   "outputs": [
    {
     "name": "stdout",
     "output_type": "stream",
     "text": [
      "['id', 'date', 'trans', 'symbol', 'qty', 'price']\n"
     ]
    }
   ],
   "source": [
    "cur.execute('PRAGMA TABLE_INFO(stock)')\n",
    "names = [tup[1] for tup in cur.fetchall()]\n",
    "print(names)"
   ]
  },
  {
   "cell_type": "code",
   "execution_count": 19,
   "metadata": {},
   "outputs": [],
   "source": [
    "## Save or commit changes\n",
    "#con.commit()"
   ]
  },
  {
   "cell_type": "markdown",
   "metadata": {},
   "source": [
    "<a id=\"sec2\"></a>"
   ]
  },
  {
   "cell_type": "markdown",
   "metadata": {},
   "source": [
    "### Section 2: Querying with SQLite"
   ]
  },
  {
   "cell_type": "markdown",
   "metadata": {},
   "source": [
    "#### Selecting a particular column"
   ]
  },
  {
   "cell_type": "code",
   "execution_count": 43,
   "metadata": {},
   "outputs": [
    {
     "name": "stdout",
     "output_type": "stream",
     "text": [
      "('RHAT',)\n",
      "('IBM',)\n",
      "('IBM',)\n",
      "('MSFT',)\n",
      "('MSFT',)\n"
     ]
    }
   ],
   "source": [
    "## Querying column symbol\n",
    "for row in cur.execute(\"SELECT symbol FROM stock\"):\n",
    "    print(row)"
   ]
  },
  {
   "cell_type": "code",
   "execution_count": 45,
   "metadata": {},
   "outputs": [
    {
     "data": {
      "text/plain": [
       "[('RHAT',), ('IBM',), ('IBM',), ('MSFT',), ('MSFT',)]"
      ]
     },
     "execution_count": 45,
     "metadata": {},
     "output_type": "execute_result"
    }
   ],
   "source": [
    "# Alternatively, \n",
    "list(cur.execute(\"SELECT symbol FROM stock\"))"
   ]
  },
  {
   "cell_type": "markdown",
   "metadata": {},
   "source": [
    "#### Sorting by a variable"
   ]
  },
  {
   "cell_type": "code",
   "execution_count": 20,
   "metadata": {},
   "outputs": [
    {
     "name": "stdout",
     "output_type": "stream",
     "text": [
      "('MSFT',)\n",
      "('RHAT',)\n",
      "('IBM',)\n",
      "('IBM',)\n",
      "('MSFT',)\n"
     ]
    }
   ],
   "source": [
    "## Querying column symbol ordered by price in ascending order\n",
    "for row in cur.execute(\"SELECT symbol FROM stock ORDER BY price\"):\n",
    "    print(row)"
   ]
  },
  {
   "cell_type": "code",
   "execution_count": 47,
   "metadata": {},
   "outputs": [
    {
     "name": "stdout",
     "output_type": "stream",
     "text": [
      "('MSFT',)\n",
      "('RHAT',)\n",
      "('IBM',)\n",
      "('IBM',)\n",
      "('MSFT',)\n"
     ]
    }
   ],
   "source": [
    "## Alternatively,\n",
    "for row in cur.execute(\"SELECT symbol FROM stock ORDER BY price ASC\"):\n",
    "    print(row)"
   ]
  },
  {
   "cell_type": "code",
   "execution_count": 46,
   "metadata": {},
   "outputs": [
    {
     "name": "stdout",
     "output_type": "stream",
     "text": [
      "('MSFT',)\n",
      "('IBM',)\n",
      "('IBM',)\n",
      "('RHAT',)\n",
      "('MSFT',)\n"
     ]
    }
   ],
   "source": [
    "## Querying column symbol ordered by price in descending order\n",
    "for row in cur.execute(\"SELECT symbol FROM stock ORDER BY price DESC\"):\n",
    "    print(row)"
   ]
  },
  {
   "cell_type": "markdown",
   "metadata": {},
   "source": [
    "#### Conditional Statements/ Filtering using `OR`"
   ]
  },
  {
   "cell_type": "code",
   "execution_count": 48,
   "metadata": {},
   "outputs": [
    {
     "name": "stdout",
     "output_type": "stream",
     "text": [
      "('2006-03-31', 'BUY')\n",
      "('2006-03-28', 'BUY')\n",
      "('2006-04-06', 'SELL')\n",
      "('2006-04-05', 'BUY')\n"
     ]
    }
   ],
   "source": [
    "## Querying column symbol ordered by price with filtering on symbol being either \"MSFT\" or \"IBM\"\n",
    "for row in cur.execute(\"SELECT date, trans FROM stock WHERE symbol='MSFT' OR symbol='IBM'   ORDER BY price\"):\n",
    "    print(row)"
   ]
  },
  {
   "cell_type": "markdown",
   "metadata": {},
   "source": [
    "#### Conditional Statements/ Filtering using `IN`"
   ]
  },
  {
   "cell_type": "code",
   "execution_count": 49,
   "metadata": {},
   "outputs": [
    {
     "name": "stdout",
     "output_type": "stream",
     "text": [
      "('2006-03-31', 'BUY')\n",
      "('2006-03-28', 'BUY')\n",
      "('2006-04-06', 'SELL')\n",
      "('2006-04-05', 'BUY')\n"
     ]
    }
   ],
   "source": [
    "## Alternatively,\n",
    "for row in cur.execute(\"SELECT date, trans FROM stock WHERE symbol IN ('MSFT', 'IBM') ORDER BY price\"):\n",
    "    print(row)"
   ]
  },
  {
   "cell_type": "code",
   "execution_count": 50,
   "metadata": {},
   "outputs": [
    {
     "name": "stdout",
     "output_type": "stream",
     "text": [
      "('2006-01-05', 'BUY')\n"
     ]
    }
   ],
   "source": [
    "## NOT IN\n",
    "for row in cur.execute(\"SELECT date, trans FROM stock WHERE symbol NOT IN ('MSFT', 'IBM') ORDER BY price\"):\n",
    "    print(row)"
   ]
  },
  {
   "cell_type": "markdown",
   "metadata": {},
   "source": [
    "#### Conditional Statements/ Filtering using `AND`"
   ]
  },
  {
   "cell_type": "code",
   "execution_count": 51,
   "metadata": {},
   "outputs": [
    {
     "name": "stdout",
     "output_type": "stream",
     "text": [
      "('2006-04-05', 'BUY')\n"
     ]
    }
   ],
   "source": [
    "## Querying column symbol ordered by price\n",
    "for row in cur.execute(\"SELECT date, trans FROM stock WHERE symbol='MSFT' AND price> 50   ORDER BY price\"):\n",
    "    print(row)"
   ]
  },
  {
   "cell_type": "markdown",
   "metadata": {},
   "source": [
    "<a id=\"sec3\"></a>"
   ]
  },
  {
   "cell_type": "markdown",
   "metadata": {},
   "source": [
    "### Section 3: Using `CASE` to create new variables"
   ]
  },
  {
   "cell_type": "markdown",
   "metadata": {},
   "source": [
    "#### Creating a factor variable "
   ]
  },
  {
   "cell_type": "markdown",
   "metadata": {},
   "source": [
    "I'm creating a new variable- **qty_des** that takes value *jackpot* if qty is greater than 1000 and is empty otheriwse"
   ]
  },
  {
   "cell_type": "code",
   "execution_count": 53,
   "metadata": {},
   "outputs": [
    {
     "name": "stdout",
     "output_type": "stream",
     "text": [
      "(1000.0, 10.0, 'jackpot')\n",
      "(100.0, 35.14, ' ')\n",
      "(1000.0, 45.0, 'jackpot')\n",
      "(500.0, 53.0, ' ')\n",
      "(1000.0, 72.2, 'jackpot')\n"
     ]
    }
   ],
   "source": [
    "for row in cur.execute(\"SELECT qty, price, CASE WHEN qty=1000 THEN 'jackpot' WHEN qty NOT IN (1000) THEN ' ' END 'qty_des' FROM stock ORDER BY price\"):\n",
    "    print(row)"
   ]
  },
  {
   "cell_type": "code",
   "execution_count": 54,
   "metadata": {},
   "outputs": [
    {
     "name": "stdout",
     "output_type": "stream",
     "text": [
      "(1, '2006-01-05', 'BUY', 'RHAT', 100.0, 35.14)\n",
      "(2, '2006-03-28', 'BUY', 'IBM', 1000.0, 45.0)\n",
      "(3, '2006-04-06', 'SELL', 'IBM', 500.0, 53.0)\n",
      "(4, '2006-04-05', 'BUY', 'MSFT', 1000.0, 72.2)\n",
      "(5, '2006-03-31', 'BUY', 'MSFT', 1000.0, 10.0)\n"
     ]
    }
   ],
   "source": [
    "## However notice that nothing has changed in the original table\n",
    "for row in cur.execute(\"SELECT * FROM stock\"):\n",
    "    print(row)"
   ]
  },
  {
   "cell_type": "markdown",
   "metadata": {},
   "source": [
    "So variable qty_des is not created within data; later we'll see how to add this variable in the table itself"
   ]
  },
  {
   "cell_type": "markdown",
   "metadata": {},
   "source": [
    "#### Creating a dummy variable"
   ]
  },
  {
   "cell_type": "markdown",
   "metadata": {},
   "source": [
    "This time variable **qty_des** takes value 1 if qty is exactly 1000 and 0 otherwise"
   ]
  },
  {
   "cell_type": "code",
   "execution_count": 55,
   "metadata": {},
   "outputs": [
    {
     "name": "stdout",
     "output_type": "stream",
     "text": [
      "(1000.0, 10.0, 1)\n",
      "(100.0, 35.14, 0)\n",
      "(1000.0, 45.0, 1)\n",
      "(500.0, 53.0, 0)\n",
      "(1000.0, 72.2, 1)\n"
     ]
    }
   ],
   "source": [
    "for row in cur.execute(\"SELECT qty, price, CASE WHEN qty=1000 THEN 1 WHEN qty NOT IN (1000) THEN 0 END 'qty_des' FROM stock ORDER BY price\"):\n",
    "    print(row)"
   ]
  },
  {
   "cell_type": "markdown",
   "metadata": {},
   "source": [
    "<a id=\"sec4\"></a>"
   ]
  },
  {
   "cell_type": "markdown",
   "metadata": {},
   "source": [
    "### Section 4: AGGREGATE FUNCTIONS"
   ]
  },
  {
   "cell_type": "markdown",
   "metadata": {},
   "source": [
    "We'll be using some of the aggregate functions like `SUM`, `AVG`, `COUNT`, `MAX`, `MIN` below"
   ]
  },
  {
   "cell_type": "code",
   "execution_count": 58,
   "metadata": {},
   "outputs": [
    {
     "name": "stdout",
     "output_type": "stream",
     "text": [
      "(215.33999999999997,)\n"
     ]
    }
   ],
   "source": [
    "for row in cur.execute(\"SELECT SUM(price) FROM stock\"):\n",
    "    print(row)"
   ]
  },
  {
   "cell_type": "code",
   "execution_count": 59,
   "metadata": {},
   "outputs": [
    {
     "name": "stdout",
     "output_type": "stream",
     "text": [
      "(43.068,)\n"
     ]
    }
   ],
   "source": [
    "for row in cur.execute(\"SELECT AVG(price) FROM stock\"):\n",
    "    print(row)"
   ]
  },
  {
   "cell_type": "code",
   "execution_count": 60,
   "metadata": {},
   "outputs": [
    {
     "name": "stdout",
     "output_type": "stream",
     "text": [
      "(72.2,)\n"
     ]
    }
   ],
   "source": [
    "for row in cur.execute(\"SELECT MAX(price) FROM stock\"):\n",
    "    print(row)"
   ]
  },
  {
   "cell_type": "code",
   "execution_count": 61,
   "metadata": {},
   "outputs": [
    {
     "name": "stdout",
     "output_type": "stream",
     "text": [
      "(10.0,)\n"
     ]
    }
   ],
   "source": [
    "for row in cur.execute(\"SELECT MIN(price) FROM stock\"):\n",
    "    print(row)"
   ]
  },
  {
   "cell_type": "markdown",
   "metadata": {},
   "source": [
    "#### Combining Aggregate Function with `GROUP BY`"
   ]
  },
  {
   "cell_type": "code",
   "execution_count": 62,
   "metadata": {},
   "outputs": [
    {
     "name": "stdout",
     "output_type": "stream",
     "text": [
      "('IBM', 98.0)\n",
      "('MSFT', 82.2)\n",
      "('RHAT', 35.14)\n"
     ]
    }
   ],
   "source": [
    "for row in cur.execute(\"SELECT symbol, SUM(price) FROM stock GROUP BY symbol\"):\n",
    "    print(row)"
   ]
  },
  {
   "cell_type": "markdown",
   "metadata": {},
   "source": [
    "#### Combining Aggregate Function with `GROUP BY` and filtering on the aggregated function (`HAVING`)"
   ]
  },
  {
   "cell_type": "code",
   "execution_count": 63,
   "metadata": {},
   "outputs": [
    {
     "name": "stdout",
     "output_type": "stream",
     "text": [
      "('IBM', 98.0)\n",
      "('MSFT', 82.2)\n"
     ]
    }
   ],
   "source": [
    "for row in cur.execute(\"SELECT symbol, SUM(price) FROM stock GROUP BY symbol HAVING SUM(price)>50\"):\n",
    "    print(row)"
   ]
  },
  {
   "cell_type": "markdown",
   "metadata": {},
   "source": [
    "One can rename the column created as a result of aggregate function using `AS`"
   ]
  },
  {
   "cell_type": "code",
   "execution_count": 101,
   "metadata": {},
   "outputs": [
    {
     "name": "stdout",
     "output_type": "stream",
     "text": [
      "('IBM', 98.0)\n"
     ]
    }
   ],
   "source": [
    "for row in cur.execute(\"SELECT symbol, SUM(price) AS tot_price FROM stock GROUP BY symbol HAVING tot_price>50\"):\n",
    "    print(row)"
   ]
  },
  {
   "cell_type": "markdown",
   "metadata": {},
   "source": [
    "#### If we use `WHERE` on aggregate function, then it will check each row of raw data and not that of aggregated value"
   ]
  },
  {
   "cell_type": "code",
   "execution_count": 64,
   "metadata": {},
   "outputs": [
    {
     "name": "stdout",
     "output_type": "stream",
     "text": [
      "(125.2,)\n"
     ]
    }
   ],
   "source": [
    "for row in cur.execute(\"SELECT SUM(price) AS total_price_paid_above50 FROM stock WHERE price>50\"):\n",
    "    print(row)"
   ]
  },
  {
   "cell_type": "markdown",
   "metadata": {},
   "source": [
    "#### Finding and calculating the number of Unique elements of a variable"
   ]
  },
  {
   "cell_type": "code",
   "execution_count": 66,
   "metadata": {},
   "outputs": [
    {
     "name": "stdout",
     "output_type": "stream",
     "text": [
      "[('RHAT',), ('IBM',), ('MSFT',)]\n"
     ]
    }
   ],
   "source": [
    "cur.execute(\"SELECT DISTINCT symbol FROM stock\")\n",
    "print(cur.fetchall())"
   ]
  },
  {
   "cell_type": "code",
   "execution_count": 98,
   "metadata": {},
   "outputs": [
    {
     "name": "stdout",
     "output_type": "stream",
     "text": [
      "[(3,)]\n"
     ]
    }
   ],
   "source": [
    "cur.execute(\"SELECT COUNT(DISTINCT symbol) AS unique_symbol FROM stock\")\n",
    "print(cur.fetchall())"
   ]
  },
  {
   "cell_type": "markdown",
   "metadata": {},
   "source": [
    "Check the Documentation for more functions here: https://www.khanacademy.org/computing/computer-programming/sql/sql-basics/pt/aggregating-data"
   ]
  },
  {
   "cell_type": "markdown",
   "metadata": {},
   "source": [
    "#### Creating factor/Dummy variables based on aggregate functions"
   ]
  },
  {
   "cell_type": "code",
   "execution_count": 67,
   "metadata": {},
   "outputs": [
    {
     "name": "stdout",
     "output_type": "stream",
     "text": [
      "43.068\n",
      "(10.0, 0)\n",
      "(35.14, 0)\n",
      "(45.0, 1)\n",
      "(53.0, 1)\n",
      "(72.2, 1)\n"
     ]
    }
   ],
   "source": [
    "### Creating dummy for above average prices\n",
    "for row in cur.execute(\"SELECT AVG(price) FROM stock\"):\n",
    "    mean_price= row[0]\n",
    "print(mean_price)\n",
    "### Using named style method for placeholders\n",
    "for row in cur.execute(\"SELECT price, CASE WHEN price>= :x THEN 1 WHEN price < :x THEN 0 END as 'above_mean_price' FROM stock ORDER BY price\", {\"x\" : mean_price}):\n",
    "    print(row)"
   ]
  },
  {
   "cell_type": "code",
   "execution_count": 68,
   "metadata": {
    "scrolled": true
   },
   "outputs": [
    {
     "name": "stdout",
     "output_type": "stream",
     "text": [
      "('BUY', 1)\n",
      "('BUY', 1)\n",
      "('BUY', 1)\n",
      "('SELL', 0)\n",
      "('BUY', 1)\n"
     ]
    }
   ],
   "source": [
    "## creating a dummy variable for buy/sell based on variable trans\n",
    "### Using question mark method for placeholders\n",
    "for row in cur.execute(\"SELECT trans, CASE WHEN trans=? THEN 1 WHEN trans =? THEN 0 END 'buy_sell' FROM stock ORDER BY price\", [\"BUY\", \"SELL\"]):\n",
    "    print(row)"
   ]
  },
  {
   "cell_type": "code",
   "execution_count": 69,
   "metadata": {},
   "outputs": [
    {
     "name": "stdout",
     "output_type": "stream",
     "text": [
      "[(1, 0), (4, 1)]\n"
     ]
    }
   ],
   "source": [
    "# Counting nos. of buys and sells\n",
    "cur.execute(\"SELECT COUNT(*), CASE WHEN trans=? THEN 1 WHEN trans =? THEN 0 END 'buy_sell' FROM stock GROUP BY buy_sell\", [\"BUY\", \"SELL\"])\n",
    "print(cur.fetchall())"
   ]
  },
  {
   "cell_type": "markdown",
   "metadata": {},
   "source": [
    "Question mark method cannot be used with numerical/float placeholder"
   ]
  },
  {
   "cell_type": "markdown",
   "metadata": {},
   "source": [
    "<a id=\"sec5\"></a>"
   ]
  },
  {
   "cell_type": "markdown",
   "metadata": {},
   "source": [
    "### Section 5: Subqueries"
   ]
  },
  {
   "cell_type": "markdown",
   "metadata": {},
   "source": [
    "Creating a new table- **markets**, with columns `id`, `price`, `mkt_senti`"
   ]
  },
  {
   "cell_type": "code",
   "execution_count": 70,
   "metadata": {},
   "outputs": [
    {
     "data": {
      "text/plain": [
       "<sqlite3.Cursor at 0x10f748500>"
      ]
     },
     "execution_count": 70,
     "metadata": {},
     "output_type": "execute_result"
    }
   ],
   "source": [
    "# Create a table\n",
    "cur.execute('''CREATE TABLE markets (id integer primary key, price real, mkt_senti text) ''')"
   ]
  },
  {
   "cell_type": "code",
   "execution_count": 71,
   "metadata": {},
   "outputs": [
    {
     "data": {
      "text/plain": [
       "<sqlite3.Cursor at 0x10f748500>"
      ]
     },
     "execution_count": 71,
     "metadata": {},
     "output_type": "execute_result"
    }
   ],
   "source": [
    "## Adding more data points\n",
    "cur.execute(\"INSERT INTO markets VALUES(1, 35.14, 'BULL')\")\n",
    "cur.execute(\"INSERT INTO markets VALUES(2, 45.0, 'BEAR')\")\n",
    "cur.execute(\"INSERT INTO markets VALUES(3, 53.0, 'BEAR')\")\n",
    "cur.execute(\"INSERT INTO markets VALUES(4, 15.1, 'BULL')\")"
   ]
  },
  {
   "cell_type": "code",
   "execution_count": 72,
   "metadata": {},
   "outputs": [
    {
     "data": {
      "text/plain": [
       "[(1, 35.14, 'BULL'), (2, 45.0, 'BEAR'), (3, 53.0, 'BEAR'), (4, 15.1, 'BULL')]"
      ]
     },
     "execution_count": 72,
     "metadata": {},
     "output_type": "execute_result"
    }
   ],
   "source": [
    "list(cur.execute(\"SELECT * FROM markets\"))"
   ]
  },
  {
   "cell_type": "markdown",
   "metadata": {},
   "source": [
    "Subqueries mean that the conditional statement could be based on a query on another table"
   ]
  },
  {
   "cell_type": "code",
   "execution_count": 73,
   "metadata": {},
   "outputs": [
    {
     "name": "stdout",
     "output_type": "stream",
     "text": [
      "[(1, '2006-01-05', 'BUY', 'RHAT', 100.0, 35.14), (2, '2006-03-28', 'BUY', 'IBM', 1000.0, 45.0), (3, '2006-04-06', 'SELL', 'IBM', 500.0, 53.0)]\n"
     ]
    }
   ],
   "source": [
    "## Subqueries\n",
    "cur.execute(\"SELECT * FROM stock WHERE price IN (SELECT price FROM markets)\")\n",
    "print(cur.fetchall())"
   ]
  },
  {
   "cell_type": "code",
   "execution_count": 74,
   "metadata": {},
   "outputs": [
    {
     "name": "stdout",
     "output_type": "stream",
     "text": [
      "[(3, '2006-04-06', 'SELL', 'IBM', 500.0, 53.0)]\n"
     ]
    }
   ],
   "source": [
    "## Subqueries\n",
    "cur.execute(\"SELECT * FROM stock WHERE price IN (SELECT price FROM markets WHERE price>50)\") # price>50 is evaluated for price variable in markets\n",
    "print(cur.fetchall())"
   ]
  },
  {
   "cell_type": "code",
   "execution_count": 75,
   "metadata": {},
   "outputs": [
    {
     "name": "stdout",
     "output_type": "stream",
     "text": [
      "[]\n"
     ]
    }
   ],
   "source": [
    "## Subqueries\n",
    "cur.execute(\"SELECT * FROM stock WHERE price IN (SELECT price FROM markets WHERE price=53.1)\")\n",
    "print(cur.fetchall())"
   ]
  },
  {
   "cell_type": "code",
   "execution_count": 76,
   "metadata": {},
   "outputs": [
    {
     "name": "stdout",
     "output_type": "stream",
     "text": [
      "[(1, '2006-01-05', 'BUY', 'RHAT', 100.0, 35.14)]\n"
     ]
    }
   ],
   "source": [
    "## Subqueries(Inexact matches)\n",
    "cur.execute(\"SELECT * FROM stock WHERE price IN (SELECT price FROM markets WHERE mkt_senti LIKE '%BU%')\") # % sign is a wildcard holder, ie, there could be anything in froint and back of BU\n",
    "print(cur.fetchall())"
   ]
  },
  {
   "cell_type": "code",
   "execution_count": 133,
   "metadata": {},
   "outputs": [],
   "source": [
    "## Save or commit changes\n",
    "#con.commit()"
   ]
  },
  {
   "cell_type": "markdown",
   "metadata": {},
   "source": [
    "<a id=\"sec6\"></a>"
   ]
  },
  {
   "cell_type": "markdown",
   "metadata": {},
   "source": [
    "### Section 6: Updating or Deleting Data from rows"
   ]
  },
  {
   "cell_type": "markdown",
   "metadata": {},
   "source": [
    "#### Updating value of a particular column in a specific row"
   ]
  },
  {
   "cell_type": "code",
   "execution_count": 77,
   "metadata": {},
   "outputs": [
    {
     "name": "stdout",
     "output_type": "stream",
     "text": [
      "(1, '2006-01-05', 'BUY', 'RHAT', 100.0, 35.14)\n",
      "(2, '2006-03-28', 'BUY', 'IBM', 1000.0, 45.0)\n",
      "(3, '2006-04-06', 'SELL', 'IBM', 500.0, 53.0)\n",
      "(4, '2006-04-05', 'BUY', 'MSFT', 1000.0, 25.0)\n",
      "(5, '2006-03-31', 'BUY', 'MSFT', 1000.0, 10.0)\n"
     ]
    }
   ],
   "source": [
    "cur.execute(\"UPDATE stock SET price= 25.00 WHERE id=4\")\n",
    "## Looking at the table\n",
    "for row in cur.execute(\"SELECT * FROM stock\"):\n",
    "    print(row)"
   ]
  },
  {
   "cell_type": "markdown",
   "metadata": {},
   "source": [
    "#### Deleting a row"
   ]
  },
  {
   "cell_type": "code",
   "execution_count": 78,
   "metadata": {},
   "outputs": [
    {
     "name": "stdout",
     "output_type": "stream",
     "text": [
      "(1, '2006-01-05', 'BUY', 'RHAT', 100.0, 35.14)\n",
      "(2, '2006-03-28', 'BUY', 'IBM', 1000.0, 45.0)\n",
      "(3, '2006-04-06', 'SELL', 'IBM', 500.0, 53.0)\n",
      "(5, '2006-03-31', 'BUY', 'MSFT', 1000.0, 10.0)\n"
     ]
    }
   ],
   "source": [
    "cur.execute(\"DELETE FROM stock WHERE id=4\")\n",
    "## Looking at the table\n",
    "for row in cur.execute(\"SELECT * FROM stock\"):\n",
    "    print(row)"
   ]
  },
  {
   "cell_type": "markdown",
   "metadata": {},
   "source": [
    "#### Dropping the entire table (Careful: Won't be able to retrieve it!)"
   ]
  },
  {
   "cell_type": "code",
   "execution_count": 79,
   "metadata": {},
   "outputs": [
    {
     "ename": "OperationalError",
     "evalue": "no such table: stock",
     "output_type": "error",
     "traceback": [
      "\u001b[0;31m---------------------------------------------------------------------------\u001b[0m",
      "\u001b[0;31mOperationalError\u001b[0m                          Traceback (most recent call last)",
      "\u001b[0;32m<ipython-input-79-95e0526dcc93>\u001b[0m in \u001b[0;36m<module>\u001b[0;34m\u001b[0m\n\u001b[1;32m      1\u001b[0m \u001b[0mcur\u001b[0m\u001b[0;34m.\u001b[0m\u001b[0mexecute\u001b[0m\u001b[0;34m(\u001b[0m\u001b[0;34m\"DROP TABLE stock\"\u001b[0m\u001b[0;34m)\u001b[0m\u001b[0;34m\u001b[0m\u001b[0;34m\u001b[0m\u001b[0m\n\u001b[1;32m      2\u001b[0m \u001b[0;31m## Looking at the table\u001b[0m\u001b[0;34m\u001b[0m\u001b[0;34m\u001b[0m\u001b[0;34m\u001b[0m\u001b[0m\n\u001b[0;32m----> 3\u001b[0;31m \u001b[0;32mfor\u001b[0m \u001b[0mrow\u001b[0m \u001b[0;32min\u001b[0m \u001b[0mcur\u001b[0m\u001b[0;34m.\u001b[0m\u001b[0mexecute\u001b[0m\u001b[0;34m(\u001b[0m\u001b[0;34m\"SELECT * FROM stock\"\u001b[0m\u001b[0;34m)\u001b[0m\u001b[0;34m:\u001b[0m\u001b[0;34m\u001b[0m\u001b[0;34m\u001b[0m\u001b[0m\n\u001b[0m\u001b[1;32m      4\u001b[0m     \u001b[0mprint\u001b[0m\u001b[0;34m(\u001b[0m\u001b[0mrow\u001b[0m\u001b[0;34m)\u001b[0m\u001b[0;34m\u001b[0m\u001b[0;34m\u001b[0m\u001b[0m\n",
      "\u001b[0;31mOperationalError\u001b[0m: no such table: stock"
     ]
    }
   ],
   "source": [
    "cur.execute(\"DROP TABLE stock\")\n",
    "## Looking at the table\n",
    "for row in cur.execute(\"SELECT * FROM stock\"):\n",
    "    print(row) ## This will show an error since the table stock has been dropped"
   ]
  },
  {
   "cell_type": "code",
   "execution_count": 80,
   "metadata": {},
   "outputs": [],
   "source": [
    "# Close the connection before closing the file\n",
    "con.close()"
   ]
  },
  {
   "cell_type": "markdown",
   "metadata": {},
   "source": [
    "<a id=\"sec7\"></a>"
   ]
  },
  {
   "cell_type": "markdown",
   "metadata": {},
   "source": [
    "### Section 7: JOINing related tables"
   ]
  },
  {
   "cell_type": "markdown",
   "metadata": {},
   "source": [
    "I'll start by creating two tables- **students** and **student_grades**"
   ]
  },
  {
   "cell_type": "code",
   "execution_count": 81,
   "metadata": {},
   "outputs": [],
   "source": [
    "## Making new database student_grades.db:\n",
    "con= sqlite3.connect('student_grades.db') # Here the data will be stored in example.db\n",
    "# Once you have connection, you can create a Cursor object and call its execute() method to perform SQL commands\n",
    "cur= con.cursor()"
   ]
  },
  {
   "cell_type": "code",
   "execution_count": 97,
   "metadata": {},
   "outputs": [
    {
     "data": {
      "text/plain": [
       "<sqlite3.Cursor at 0x11000de30>"
      ]
     },
     "execution_count": 97,
     "metadata": {},
     "output_type": "execute_result"
    }
   ],
   "source": [
    "# Create a table\n",
    "cur.execute('''CREATE TABLE students (id integer primary key, first_name TEXT,\n",
    "    last_name TEXT,\n",
    "    email TEXT,\n",
    "    phone TEXT,\n",
    "    birthdate TEXT) ''')"
   ]
  },
  {
   "cell_type": "code",
   "execution_count": 98,
   "metadata": {},
   "outputs": [
    {
     "data": {
      "text/plain": [
       "<sqlite3.Cursor at 0x11000de30>"
      ]
     },
     "execution_count": 98,
     "metadata": {},
     "output_type": "execute_result"
    }
   ],
   "source": [
    "## Adding data points\n",
    "cur.execute(\"INSERT INTO students (first_name, last_name, email, phone, birthdate) VALUES('Peter', 'Rabbit', 'peter@rabbit.com', '555-6666', '2002-06-24')\")\n",
    "cur.execute(\"INSERT INTO students (first_name, last_name, email, phone, birthdate) VALUES('Alice', 'Wonderland', 'alice@wonderland.com', '555-4444', '2002-07-04')\")"
   ]
  },
  {
   "cell_type": "code",
   "execution_count": 99,
   "metadata": {},
   "outputs": [
    {
     "name": "stdout",
     "output_type": "stream",
     "text": [
      "(1, 'Peter', 'Rabbit', 'peter@rabbit.com', '555-6666', '2002-06-24')\n",
      "(2, 'Alice', 'Wonderland', 'alice@wonderland.com', '555-4444', '2002-07-04')\n"
     ]
    }
   ],
   "source": [
    "## looking at the table\n",
    "for row in cur.execute(\"SELECT * FROM students\"):\n",
    "    print(row)"
   ]
  },
  {
   "cell_type": "code",
   "execution_count": 100,
   "metadata": {},
   "outputs": [
    {
     "data": {
      "text/plain": [
       "<sqlite3.Cursor at 0x11000de30>"
      ]
     },
     "execution_count": 100,
     "metadata": {},
     "output_type": "execute_result"
    }
   ],
   "source": [
    "## Creating student grades table\n",
    "cur.execute('''CREATE TABLE student_grades (id INTEGER primary key,\n",
    "    student_id integer,\n",
    "    test text,\n",
    "    grade integer) ''')"
   ]
  },
  {
   "cell_type": "code",
   "execution_count": 101,
   "metadata": {},
   "outputs": [
    {
     "data": {
      "text/plain": [
       "<sqlite3.Cursor at 0x11000de30>"
      ]
     },
     "execution_count": 101,
     "metadata": {},
     "output_type": "execute_result"
    }
   ],
   "source": [
    "## Adding data into the table\n",
    "cur.execute(\"INSERT INTO student_grades (student_id, test, grade) VALUES (1, 'Nutrition', 95)\")\n",
    "cur.execute(\"INSERT INTO student_grades (student_id, test, grade) VALUES (2, 'Nutrition', 92)\")\n",
    "cur.execute(\"INSERT INTO student_grades (student_id, test, grade) VALUES (1, 'Chemistry', 85)\")\n",
    "cur.execute(\"INSERT INTO student_grades (student_id, test, grade) VALUES (2, 'Chemistry', 95)\")"
   ]
  },
  {
   "cell_type": "code",
   "execution_count": 102,
   "metadata": {},
   "outputs": [
    {
     "name": "stdout",
     "output_type": "stream",
     "text": [
      "(1, 1, 'Nutrition', 95)\n",
      "(2, 2, 'Nutrition', 92)\n",
      "(3, 1, 'Chemistry', 85)\n",
      "(4, 2, 'Chemistry', 95)\n"
     ]
    }
   ],
   "source": [
    "for row in cur.execute(\"SELECT * FROM student_grades\"):\n",
    "    print(row)"
   ]
  },
  {
   "cell_type": "markdown",
   "metadata": {},
   "source": [
    "#### Cross Join"
   ]
  },
  {
   "cell_type": "code",
   "execution_count": 103,
   "metadata": {},
   "outputs": [
    {
     "name": "stdout",
     "output_type": "stream",
     "text": [
      "(1, 1, 'Nutrition', 95, 1, 'Peter', 'Rabbit', 'peter@rabbit.com', '555-6666', '2002-06-24')\n",
      "(1, 1, 'Nutrition', 95, 2, 'Alice', 'Wonderland', 'alice@wonderland.com', '555-4444', '2002-07-04')\n",
      "(2, 2, 'Nutrition', 92, 1, 'Peter', 'Rabbit', 'peter@rabbit.com', '555-6666', '2002-06-24')\n",
      "(2, 2, 'Nutrition', 92, 2, 'Alice', 'Wonderland', 'alice@wonderland.com', '555-4444', '2002-07-04')\n",
      "(3, 1, 'Chemistry', 85, 1, 'Peter', 'Rabbit', 'peter@rabbit.com', '555-6666', '2002-06-24')\n",
      "(3, 1, 'Chemistry', 85, 2, 'Alice', 'Wonderland', 'alice@wonderland.com', '555-4444', '2002-07-04')\n",
      "(4, 2, 'Chemistry', 95, 1, 'Peter', 'Rabbit', 'peter@rabbit.com', '555-6666', '2002-06-24')\n",
      "(4, 2, 'Chemistry', 95, 2, 'Alice', 'Wonderland', 'alice@wonderland.com', '555-4444', '2002-07-04')\n"
     ]
    }
   ],
   "source": [
    "for row in cur.execute(\"SELECT * FROM student_grades, students\"):\n",
    "    print(row)"
   ]
  },
  {
   "cell_type": "markdown",
   "metadata": {},
   "source": [
    "Above does not match the tables on any variables"
   ]
  },
  {
   "cell_type": "markdown",
   "metadata": {},
   "source": [
    "#### (Implicit) Inner Join"
   ]
  },
  {
   "cell_type": "code",
   "execution_count": 104,
   "metadata": {},
   "outputs": [
    {
     "name": "stdout",
     "output_type": "stream",
     "text": [
      "(1, 1, 'Nutrition', 95, 1, 'Peter', 'Rabbit', 'peter@rabbit.com', '555-6666', '2002-06-24')\n",
      "(2, 2, 'Nutrition', 92, 2, 'Alice', 'Wonderland', 'alice@wonderland.com', '555-4444', '2002-07-04')\n",
      "(3, 1, 'Chemistry', 85, 1, 'Peter', 'Rabbit', 'peter@rabbit.com', '555-6666', '2002-06-24')\n",
      "(4, 2, 'Chemistry', 95, 2, 'Alice', 'Wonderland', 'alice@wonderland.com', '555-4444', '2002-07-04')\n"
     ]
    }
   ],
   "source": [
    "for row in cur.execute(\"SELECT * FROM student_grades, students WHERE student_grades.student_id= students.id\"):\n",
    "    print(row)"
   ]
  },
  {
   "cell_type": "markdown",
   "metadata": {},
   "source": [
    "#### (Explicit) Inner Join"
   ]
  },
  {
   "cell_type": "code",
   "execution_count": 105,
   "metadata": {},
   "outputs": [
    {
     "name": "stdout",
     "output_type": "stream",
     "text": [
      "(1, 'Peter', 'Rabbit', 'peter@rabbit.com', '555-6666', '2002-06-24', 1, 1, 'Nutrition', 95)\n",
      "(2, 'Alice', 'Wonderland', 'alice@wonderland.com', '555-4444', '2002-07-04', 2, 2, 'Nutrition', 92)\n",
      "(1, 'Peter', 'Rabbit', 'peter@rabbit.com', '555-6666', '2002-06-24', 3, 1, 'Chemistry', 85)\n",
      "(2, 'Alice', 'Wonderland', 'alice@wonderland.com', '555-4444', '2002-07-04', 4, 2, 'Chemistry', 95)\n"
     ]
    }
   ],
   "source": [
    "for row in cur.execute(\"SELECt * FROM students JOIN student_grades ON students.id= student_grades.student_id\"):\n",
    "    print(row)"
   ]
  },
  {
   "cell_type": "code",
   "execution_count": 106,
   "metadata": {},
   "outputs": [
    {
     "name": "stdout",
     "output_type": "stream",
     "text": [
      "('Peter', 'Rabbit', 'peter@rabbit.com', 'Nutrition', 95)\n",
      "('Alice', 'Wonderland', 'alice@wonderland.com', 'Nutrition', 92)\n",
      "('Peter', 'Rabbit', 'peter@rabbit.com', 'Chemistry', 85)\n",
      "('Alice', 'Wonderland', 'alice@wonderland.com', 'Chemistry', 95)\n"
     ]
    }
   ],
   "source": [
    "for row in cur.execute(\"SELECT first_name, last_name, email, test, grade FROM students JOIN student_grades ON students.id= student_grades.student_id\"):\n",
    "    print(row)"
   ]
  },
  {
   "cell_type": "code",
   "execution_count": 107,
   "metadata": {},
   "outputs": [
    {
     "name": "stdout",
     "output_type": "stream",
     "text": [
      "('Peter', 'Rabbit', 'peter@rabbit.com', 'Nutrition', 95)\n",
      "('Alice', 'Wonderland', 'alice@wonderland.com', 'Nutrition', 92)\n",
      "('Alice', 'Wonderland', 'alice@wonderland.com', 'Chemistry', 95)\n"
     ]
    }
   ],
   "source": [
    "## Can combine with WHERE conditionals\n",
    "for row in cur.execute(\"SELECT first_name, last_name, email, test, grade FROM students JOIN student_grades ON students.id= student_grades.student_id WHERE grade>90\"):\n",
    "    print(row)"
   ]
  },
  {
   "cell_type": "code",
   "execution_count": 108,
   "metadata": {},
   "outputs": [
    {
     "name": "stdout",
     "output_type": "stream",
     "text": [
      "('Peter', 'Rabbit', 'peter@rabbit.com', 'Nutrition', 95)\n",
      "('Alice', 'Wonderland', 'alice@wonderland.com', 'Nutrition', 92)\n",
      "('Alice', 'Wonderland', 'alice@wonderland.com', 'Chemistry', 95)\n"
     ]
    }
   ],
   "source": [
    "## Prefixing table name can make sure that if there is a variable with same name in both tables, then SQL knows which one to pull\n",
    "for row in cur.execute(\"SELECT students.first_name, students.last_name, students.email, student_grades.test, student_grades.grade FROM students JOIN student_grades ON students.id= student_grades.student_id WHERE grade>90\"):\n",
    "    print(row)"
   ]
  },
  {
   "cell_type": "markdown",
   "metadata": {},
   "source": [
    "#### Outer Joins"
   ]
  },
  {
   "cell_type": "code",
   "execution_count": 109,
   "metadata": {},
   "outputs": [
    {
     "data": {
      "text/plain": [
       "<sqlite3.Cursor at 0x11000de30>"
      ]
     },
     "execution_count": 109,
     "metadata": {},
     "output_type": "execute_result"
    }
   ],
   "source": [
    "## Creating a third table\n",
    "cur.execute('''CREATE TABLE student_projects (id INTEGER PRIMARY KEY,\n",
    "    student_id INTEGER,\n",
    "    title TEXT)''')"
   ]
  },
  {
   "cell_type": "code",
   "execution_count": 110,
   "metadata": {},
   "outputs": [
    {
     "data": {
      "text/plain": [
       "<sqlite3.Cursor at 0x11000de30>"
      ]
     },
     "execution_count": 110,
     "metadata": {},
     "output_type": "execute_result"
    }
   ],
   "source": [
    "## Entering data\n",
    "cur.execute(\"INSERT INTO student_projects (student_id, title) VALUES (1, 'Carrotapault')\")"
   ]
  },
  {
   "cell_type": "code",
   "execution_count": 111,
   "metadata": {},
   "outputs": [
    {
     "name": "stdout",
     "output_type": "stream",
     "text": [
      "(1, 1, 'Carrotapault')\n"
     ]
    }
   ],
   "source": [
    "for row in cur.execute(\"SELECT * FROM student_projects\"):\n",
    "    print(row)"
   ]
  },
  {
   "cell_type": "code",
   "execution_count": 112,
   "metadata": {},
   "outputs": [
    {
     "name": "stdout",
     "output_type": "stream",
     "text": [
      "('Peter', 'Rabbit', 'Carrotapault')\n"
     ]
    }
   ],
   "source": [
    "## Inner join\n",
    "for row in cur.execute(\"SELECT students.first_name, students.last_name, student_projects.title FROM students JOIN student_projects ON students.id= student_projects.student_id\"):\n",
    "    print(row)"
   ]
  },
  {
   "cell_type": "code",
   "execution_count": 113,
   "metadata": {},
   "outputs": [
    {
     "name": "stdout",
     "output_type": "stream",
     "text": [
      "('Peter', 'Rabbit', 'Carrotapault')\n",
      "('Alice', 'Wonderland', None)\n"
     ]
    }
   ],
   "source": [
    "## Outer join- makes sure all observations are retained\n",
    "for row in cur.execute(\"SELECT students.first_name, students.last_name, student_projects.title FROM students LEFT OUTER JOIN student_projects ON students.id= student_projects.student_id\"):\n",
    "    print(row)"
   ]
  },
  {
   "cell_type": "markdown",
   "metadata": {},
   "source": [
    "#### Self-joins"
   ]
  },
  {
   "cell_type": "code",
   "execution_count": 116,
   "metadata": {},
   "outputs": [
    {
     "data": {
      "text/plain": [
       "<sqlite3.Cursor at 0x11000de30>"
      ]
     },
     "execution_count": 116,
     "metadata": {},
     "output_type": "execute_result"
    }
   ],
   "source": [
    "## Re-creating students data\n",
    "# Craete a table\n",
    "cur.execute('''CREATE TABLE student (id integer primary key, first_name TEXT,\n",
    "    last_name TEXT,\n",
    "    email TEXT,\n",
    "    phone TEXT,\n",
    "    birthdate TEXT,\n",
    "    buddy_id INTEGER) ''')"
   ]
  },
  {
   "cell_type": "code",
   "execution_count": 117,
   "metadata": {},
   "outputs": [
    {
     "data": {
      "text/plain": [
       "<sqlite3.Cursor at 0x11000de30>"
      ]
     },
     "execution_count": 117,
     "metadata": {},
     "output_type": "execute_result"
    }
   ],
   "source": [
    "## Adding data into the table\n",
    "cur.execute(\"INSERT INTO student VALUES (1, 'Peter', 'Rabbit', 'peter@rabbit.com', '555-6666', '2002-06-24', 2)\")\n",
    "cur.execute(\"INSERT INTO student VALUES (2, 'Alice', 'Wonderland', 'alice@wonderland.com', '555-4444', '2002-07-04', 1)\")\n",
    "cur.execute(\"INSERT INTO student VALUES (3, 'Aladdin', 'Lampland', 'aladdin@lampland.com', '555-3333', '2001-05-10', 4)\")\n",
    "cur.execute(\"INSERT INTO student VALUES (4, 'Simba', 'Kingston', 'simba@kingston.com', '555-1111', '2001-12-24', 3)\")"
   ]
  },
  {
   "cell_type": "code",
   "execution_count": 118,
   "metadata": {},
   "outputs": [
    {
     "name": "stdout",
     "output_type": "stream",
     "text": [
      "(1, 'Peter', 'Rabbit', 'peter@rabbit.com', '555-6666', '2002-06-24', 2)\n",
      "(2, 'Alice', 'Wonderland', 'alice@wonderland.com', '555-4444', '2002-07-04', 1)\n",
      "(3, 'Aladdin', 'Lampland', 'aladdin@lampland.com', '555-3333', '2001-05-10', 4)\n",
      "(4, 'Simba', 'Kingston', 'simba@kingston.com', '555-1111', '2001-12-24', 3)\n"
     ]
    }
   ],
   "source": [
    "for row in cur.execute(\"SELECT * FROM student\"):\n",
    "    print(row)"
   ]
  },
  {
   "cell_type": "code",
   "execution_count": 119,
   "metadata": {},
   "outputs": [
    {
     "name": "stdout",
     "output_type": "stream",
     "text": [
      "('Peter', 'Rabbit', 'alice@wonderland.com')\n",
      "('Alice', 'Wonderland', 'peter@rabbit.com')\n",
      "('Aladdin', 'Lampland', 'simba@kingston.com')\n",
      "('Simba', 'Kingston', 'aladdin@lampland.com')\n"
     ]
    }
   ],
   "source": [
    "## Self-join\n",
    "for row in cur.execute(\"SELECT student.first_name,student.last_name, buddies.email as buddy_email FROM student JOIN student buddies ON student.buddy_id=buddies.id\"):\n",
    "    print(row)"
   ]
  },
  {
   "cell_type": "code",
   "execution_count": 120,
   "metadata": {},
   "outputs": [
    {
     "name": "stdout",
     "output_type": "stream",
     "text": [
      "(1, 'Peter', 'Rabbit', 'peter@rabbit.com', '555-6666', '2002-06-24', 2)\n",
      "(2, 'Alice', 'Wonderland', 'alice@wonderland.com', '555-4444', '2002-07-04', 1)\n",
      "(3, 'Aladdin', 'Lampland', 'aladdin@lampland.com', '555-3333', '2001-05-10', 4)\n",
      "(4, 'Simba', 'Kingston', 'simba@kingston.com', '555-1111', '2001-12-24', 3)\n"
     ]
    }
   ],
   "source": [
    "for row in cur.execute(\"SELECT * FROM student\"):\n",
    "    print(row)"
   ]
  },
  {
   "cell_type": "markdown",
   "metadata": {},
   "source": [
    "Notice again that the join did not add the columns in the table students. Next lets try to figure out how we can add the buddy_email in student table and see how to convert this table into csv file that can be used for later analysis"
   ]
  },
  {
   "cell_type": "code",
   "execution_count": 170,
   "metadata": {},
   "outputs": [],
   "source": [
    "## Save or commit changes\n",
    "#con.commit()"
   ]
  },
  {
   "cell_type": "markdown",
   "metadata": {},
   "source": [
    "## Creating a new column"
   ]
  },
  {
   "cell_type": "markdown",
   "metadata": {},
   "source": [
    "Self-join creates a tuple of rows:"
   ]
  },
  {
   "cell_type": "code",
   "execution_count": 121,
   "metadata": {},
   "outputs": [
    {
     "data": {
      "text/plain": [
       "[('Peter', 'Rabbit', 'alice@wonderland.com'),\n",
       " ('Alice', 'Wonderland', 'peter@rabbit.com'),\n",
       " ('Aladdin', 'Lampland', 'simba@kingston.com'),\n",
       " ('Simba', 'Kingston', 'aladdin@lampland.com')]"
      ]
     },
     "execution_count": 121,
     "metadata": {},
     "output_type": "execute_result"
    }
   ],
   "source": [
    "list(cur.execute(\"SELECT student.first_name,student.last_name, buddies.email as buddy_email FROM student JOIN student buddies ON student.buddy_id=buddies.id\"))"
   ]
  },
  {
   "cell_type": "markdown",
   "metadata": {},
   "source": [
    "Notice the third element is the buddy email that we are after. So let's store that variable in a list vcalled **prox**"
   ]
  },
  {
   "cell_type": "code",
   "execution_count": 122,
   "metadata": {},
   "outputs": [
    {
     "name": "stdout",
     "output_type": "stream",
     "text": [
      "alice@wonderland.com\n",
      "peter@rabbit.com\n",
      "simba@kingston.com\n",
      "aladdin@lampland.com\n"
     ]
    }
   ],
   "source": [
    "## Looking at the table\n",
    "prox=[]\n",
    "for row in cur.execute(\"SELECT student.first_name,student.last_name, buddies.email as buddy_email FROM student JOIN student buddies ON student.buddy_id=buddies.id\"):\n",
    "    print(row[2])\n",
    "    prox.append(row[2])"
   ]
  },
  {
   "cell_type": "code",
   "execution_count": 123,
   "metadata": {},
   "outputs": [
    {
     "data": {
      "text/plain": [
       "['alice@wonderland.com',\n",
       " 'peter@rabbit.com',\n",
       " 'simba@kingston.com',\n",
       " 'aladdin@lampland.com']"
      ]
     },
     "execution_count": 123,
     "metadata": {},
     "output_type": "execute_result"
    }
   ],
   "source": [
    "## let's check the list\n",
    "prox"
   ]
  },
  {
   "cell_type": "markdown",
   "metadata": {},
   "source": [
    "**METHOD1:** In this method, I'll be updating the value of variable **buddy_email** using the `UPDATE` command. Leter we'll see how to automize this process:"
   ]
  },
  {
   "cell_type": "markdown",
   "metadata": {},
   "source": [
    "Adding a column name **buddy_email** to the table student"
   ]
  },
  {
   "cell_type": "code",
   "execution_count": 124,
   "metadata": {},
   "outputs": [
    {
     "data": {
      "text/plain": [
       "<sqlite3.Cursor at 0x11000de30>"
      ]
     },
     "execution_count": 124,
     "metadata": {},
     "output_type": "execute_result"
    }
   ],
   "source": [
    "cur.execute(\"ALTER TABLE student ADD COLUMN buddy_email TEXT\")"
   ]
  },
  {
   "cell_type": "code",
   "execution_count": 125,
   "metadata": {},
   "outputs": [
    {
     "data": {
      "text/plain": [
       "<sqlite3.Cursor at 0x11000de30>"
      ]
     },
     "execution_count": 125,
     "metadata": {},
     "output_type": "execute_result"
    }
   ],
   "source": [
    "cur.execute(\"UPDATE student SET buddy_email=:x WHERE id= 1\", {\"x\": prox[0]})"
   ]
  },
  {
   "cell_type": "code",
   "execution_count": 126,
   "metadata": {},
   "outputs": [
    {
     "data": {
      "text/plain": [
       "<sqlite3.Cursor at 0x11000de30>"
      ]
     },
     "execution_count": 126,
     "metadata": {},
     "output_type": "execute_result"
    }
   ],
   "source": [
    "cur.execute(\"UPDATE student SET buddy_email=:x WHERE id= 2\", {\"x\": prox[1]})"
   ]
  },
  {
   "cell_type": "code",
   "execution_count": 127,
   "metadata": {},
   "outputs": [
    {
     "data": {
      "text/plain": [
       "<sqlite3.Cursor at 0x11000de30>"
      ]
     },
     "execution_count": 127,
     "metadata": {},
     "output_type": "execute_result"
    }
   ],
   "source": [
    "cur.execute(\"UPDATE student SET buddy_email=:x WHERE id= 3\", {\"x\": prox[2]})"
   ]
  },
  {
   "cell_type": "code",
   "execution_count": 128,
   "metadata": {},
   "outputs": [
    {
     "data": {
      "text/plain": [
       "<sqlite3.Cursor at 0x11000de30>"
      ]
     },
     "execution_count": 128,
     "metadata": {},
     "output_type": "execute_result"
    }
   ],
   "source": [
    "cur.execute(\"UPDATE student SET buddy_email=:x WHERE id= 4\", {\"x\": prox[3]})"
   ]
  },
  {
   "cell_type": "code",
   "execution_count": 129,
   "metadata": {},
   "outputs": [],
   "source": [
    "con.commit()"
   ]
  },
  {
   "cell_type": "code",
   "execution_count": 130,
   "metadata": {},
   "outputs": [
    {
     "name": "stdout",
     "output_type": "stream",
     "text": [
      "(1, 'Peter', 'Rabbit', 'peter@rabbit.com', '555-6666', '2002-06-24', 2, 'alice@wonderland.com')\n",
      "(2, 'Alice', 'Wonderland', 'alice@wonderland.com', '555-4444', '2002-07-04', 1, 'peter@rabbit.com')\n",
      "(3, 'Aladdin', 'Lampland', 'aladdin@lampland.com', '555-3333', '2001-05-10', 4, 'simba@kingston.com')\n",
      "(4, 'Simba', 'Kingston', 'simba@kingston.com', '555-1111', '2001-12-24', 3, 'aladdin@lampland.com')\n"
     ]
    }
   ],
   "source": [
    "## Looking at the table\n",
    "for row in cur.execute(\"SELECT * FROM student\"):\n",
    "    print(row)"
   ]
  },
  {
   "cell_type": "markdown",
   "metadata": {},
   "source": [
    "### Saving data as csv file"
   ]
  },
  {
   "cell_type": "code",
   "execution_count": 131,
   "metadata": {},
   "outputs": [],
   "source": [
    "import pandas as pd\n",
    "db_df = pd.read_sql_query(\"SELECT * FROM student\", con)\n",
    "db_df.to_csv('student.csv', index=False)"
   ]
  },
  {
   "cell_type": "code",
   "execution_count": 132,
   "metadata": {},
   "outputs": [
    {
     "data": {
      "text/html": [
       "<div>\n",
       "<style scoped>\n",
       "    .dataframe tbody tr th:only-of-type {\n",
       "        vertical-align: middle;\n",
       "    }\n",
       "\n",
       "    .dataframe tbody tr th {\n",
       "        vertical-align: top;\n",
       "    }\n",
       "\n",
       "    .dataframe thead th {\n",
       "        text-align: right;\n",
       "    }\n",
       "</style>\n",
       "<table border=\"1\" class=\"dataframe\">\n",
       "  <thead>\n",
       "    <tr style=\"text-align: right;\">\n",
       "      <th></th>\n",
       "      <th>id</th>\n",
       "      <th>first_name</th>\n",
       "      <th>last_name</th>\n",
       "      <th>email</th>\n",
       "      <th>phone</th>\n",
       "      <th>birthdate</th>\n",
       "      <th>buddy_id</th>\n",
       "      <th>buddy_email</th>\n",
       "    </tr>\n",
       "  </thead>\n",
       "  <tbody>\n",
       "    <tr>\n",
       "      <th>0</th>\n",
       "      <td>1</td>\n",
       "      <td>Peter</td>\n",
       "      <td>Rabbit</td>\n",
       "      <td>peter@rabbit.com</td>\n",
       "      <td>555-6666</td>\n",
       "      <td>2002-06-24</td>\n",
       "      <td>2</td>\n",
       "      <td>alice@wonderland.com</td>\n",
       "    </tr>\n",
       "    <tr>\n",
       "      <th>1</th>\n",
       "      <td>2</td>\n",
       "      <td>Alice</td>\n",
       "      <td>Wonderland</td>\n",
       "      <td>alice@wonderland.com</td>\n",
       "      <td>555-4444</td>\n",
       "      <td>2002-07-04</td>\n",
       "      <td>1</td>\n",
       "      <td>peter@rabbit.com</td>\n",
       "    </tr>\n",
       "    <tr>\n",
       "      <th>2</th>\n",
       "      <td>3</td>\n",
       "      <td>Aladdin</td>\n",
       "      <td>Lampland</td>\n",
       "      <td>aladdin@lampland.com</td>\n",
       "      <td>555-3333</td>\n",
       "      <td>2001-05-10</td>\n",
       "      <td>4</td>\n",
       "      <td>simba@kingston.com</td>\n",
       "    </tr>\n",
       "    <tr>\n",
       "      <th>3</th>\n",
       "      <td>4</td>\n",
       "      <td>Simba</td>\n",
       "      <td>Kingston</td>\n",
       "      <td>simba@kingston.com</td>\n",
       "      <td>555-1111</td>\n",
       "      <td>2001-12-24</td>\n",
       "      <td>3</td>\n",
       "      <td>aladdin@lampland.com</td>\n",
       "    </tr>\n",
       "  </tbody>\n",
       "</table>\n",
       "</div>"
      ],
      "text/plain": [
       "   id first_name   last_name                 email     phone   birthdate  \\\n",
       "0   1      Peter      Rabbit      peter@rabbit.com  555-6666  2002-06-24   \n",
       "1   2      Alice  Wonderland  alice@wonderland.com  555-4444  2002-07-04   \n",
       "2   3    Aladdin    Lampland  aladdin@lampland.com  555-3333  2001-05-10   \n",
       "3   4      Simba    Kingston    simba@kingston.com  555-1111  2001-12-24   \n",
       "\n",
       "   buddy_id           buddy_email  \n",
       "0         2  alice@wonderland.com  \n",
       "1         1      peter@rabbit.com  \n",
       "2         4    simba@kingston.com  \n",
       "3         3  aladdin@lampland.com  "
      ]
     },
     "execution_count": 132,
     "metadata": {},
     "output_type": "execute_result"
    }
   ],
   "source": [
    "db_df"
   ]
  },
  {
   "cell_type": "markdown",
   "metadata": {},
   "source": [
    "**METHOD2:**  Here I'm automizing the update process and adding data under variable **buddy_email2**"
   ]
  },
  {
   "cell_type": "code",
   "execution_count": 133,
   "metadata": {},
   "outputs": [
    {
     "data": {
      "text/plain": [
       "<sqlite3.Cursor at 0x11000de30>"
      ]
     },
     "execution_count": 133,
     "metadata": {},
     "output_type": "execute_result"
    }
   ],
   "source": [
    "cur.execute(\"ALTER TABLE student ADD COLUMN buddy_email2 TEXT\")"
   ]
  },
  {
   "cell_type": "code",
   "execution_count": 134,
   "metadata": {},
   "outputs": [],
   "source": [
    "for i in range(4):\n",
    "    j= i+1\n",
    "    y= prox[i]\n",
    "    cur.execute(\"UPDATE student SET buddy_email2= ? WHERE id= ?\", (y,j))"
   ]
  },
  {
   "cell_type": "code",
   "execution_count": 135,
   "metadata": {},
   "outputs": [],
   "source": [
    "con.commit()"
   ]
  },
  {
   "cell_type": "code",
   "execution_count": 136,
   "metadata": {},
   "outputs": [
    {
     "name": "stdout",
     "output_type": "stream",
     "text": [
      "(1, 'Peter', 'Rabbit', 'peter@rabbit.com', '555-6666', '2002-06-24', 2, 'alice@wonderland.com', 'alice@wonderland.com')\n",
      "(2, 'Alice', 'Wonderland', 'alice@wonderland.com', '555-4444', '2002-07-04', 1, 'peter@rabbit.com', 'peter@rabbit.com')\n",
      "(3, 'Aladdin', 'Lampland', 'aladdin@lampland.com', '555-3333', '2001-05-10', 4, 'simba@kingston.com', 'simba@kingston.com')\n",
      "(4, 'Simba', 'Kingston', 'simba@kingston.com', '555-1111', '2001-12-24', 3, 'aladdin@lampland.com', 'aladdin@lampland.com')\n"
     ]
    }
   ],
   "source": [
    "## Looking at the table\n",
    "for row in cur.execute(\"SELECT * FROM student\"):\n",
    "    print(row)"
   ]
  },
  {
   "cell_type": "code",
   "execution_count": 139,
   "metadata": {},
   "outputs": [
    {
     "data": {
      "text/plain": [
       "['id',\n",
       " 'first_name',\n",
       " 'last_name',\n",
       " 'email',\n",
       " 'phone',\n",
       " 'birthdate',\n",
       " 'buddy_id',\n",
       " 'buddy_email',\n",
       " 'buddy_email2']"
      ]
     },
     "execution_count": 139,
     "metadata": {},
     "output_type": "execute_result"
    }
   ],
   "source": [
    "cur.execute('PRAGMA TABLE_INFO(student)')\n",
    "[tup[1] for tup in cur.fetchall()]"
   ]
  },
  {
   "cell_type": "markdown",
   "metadata": {},
   "source": [
    "#### Combining multiple joins"
   ]
  },
  {
   "cell_type": "code",
   "execution_count": 140,
   "metadata": {},
   "outputs": [
    {
     "name": "stdout",
     "output_type": "stream",
     "text": [
      "(1, 'Peter', 'Rabbit', 'peter@rabbit.com', '555-6666', '2002-06-24', 2, 'alice@wonderland.com', 'alice@wonderland.com')\n",
      "(2, 'Alice', 'Wonderland', 'alice@wonderland.com', '555-4444', '2002-07-04', 1, 'peter@rabbit.com', 'peter@rabbit.com')\n",
      "(3, 'Aladdin', 'Lampland', 'aladdin@lampland.com', '555-3333', '2001-05-10', 4, 'simba@kingston.com', 'simba@kingston.com')\n",
      "(4, 'Simba', 'Kingston', 'simba@kingston.com', '555-1111', '2001-12-24', 3, 'aladdin@lampland.com', 'aladdin@lampland.com')\n"
     ]
    }
   ],
   "source": [
    "for row in cur.execute(\"SELECT * FROM student\"):\n",
    "    print(row)"
   ]
  },
  {
   "cell_type": "code",
   "execution_count": 141,
   "metadata": {},
   "outputs": [
    {
     "name": "stdout",
     "output_type": "stream",
     "text": [
      "(1, 1, 'Carrotapault')\n"
     ]
    }
   ],
   "source": [
    "for row in cur.execute(\"SELECT * FROM student_projects\"):\n",
    "    print(row)"
   ]
  },
  {
   "cell_type": "code",
   "execution_count": 142,
   "metadata": {},
   "outputs": [
    {
     "data": {
      "text/plain": [
       "<sqlite3.Cursor at 0x11000de30>"
      ]
     },
     "execution_count": 142,
     "metadata": {},
     "output_type": "execute_result"
    }
   ],
   "source": [
    "## Adding more data into student_projects table\n",
    "## Entering data\n",
    "cur.execute(\"INSERT INTO student_projects (student_id, title) VALUES (2, 'Mad Hattery')\")\n",
    "cur.execute(\"INSERT INTO student_projects (student_id, title) VALUES (3, 'Carpet Physics')\")\n",
    "cur.execute(\"INSERT INTO student_projects (student_id, title) VALUES (4, 'Hyena Habitats')\")"
   ]
  },
  {
   "cell_type": "code",
   "execution_count": 143,
   "metadata": {},
   "outputs": [
    {
     "name": "stdout",
     "output_type": "stream",
     "text": [
      "(1, 1, 'Carrotapault')\n",
      "(2, 2, 'Mad Hattery')\n",
      "(3, 3, 'Carpet Physics')\n",
      "(4, 4, 'Hyena Habitats')\n"
     ]
    }
   ],
   "source": [
    "for row in cur.execute(\"SELECT * FROM student_projects\"):\n",
    "    print(row)"
   ]
  },
  {
   "cell_type": "code",
   "execution_count": 144,
   "metadata": {},
   "outputs": [
    {
     "data": {
      "text/plain": [
       "<sqlite3.Cursor at 0x11000de30>"
      ]
     },
     "execution_count": 144,
     "metadata": {},
     "output_type": "execute_result"
    }
   ],
   "source": [
    "## Creating new table project_pairs\n",
    "cur.execute('''CREATE TABLE project_pairs (id INTEGER primary key, project1_id INTEGER, project2_id INTEGER)''')"
   ]
  },
  {
   "cell_type": "code",
   "execution_count": 145,
   "metadata": {},
   "outputs": [
    {
     "data": {
      "text/plain": [
       "<sqlite3.Cursor at 0x11000de30>"
      ]
     },
     "execution_count": 145,
     "metadata": {},
     "output_type": "execute_result"
    }
   ],
   "source": [
    "## Adding more data into  table\n",
    "## Entering data\n",
    "cur.execute(\"INSERT INTO project_pairs (project1_id, project2_id) VALUES (1,2)\")\n",
    "cur.execute(\"INSERT INTO project_pairs (project1_id, project2_id) VALUES (3, 4)\")"
   ]
  },
  {
   "cell_type": "code",
   "execution_count": 146,
   "metadata": {},
   "outputs": [
    {
     "name": "stdout",
     "output_type": "stream",
     "text": [
      "(1, 1, 2)\n",
      "(2, 3, 4)\n"
     ]
    }
   ],
   "source": [
    "for row in cur.execute(\"SELECT * FROM project_pairs\"):\n",
    "    print(row)"
   ]
  },
  {
   "cell_type": "code",
   "execution_count": 147,
   "metadata": {},
   "outputs": [
    {
     "name": "stdout",
     "output_type": "stream",
     "text": [
      "(1, 1, 2, 1, 1, 'Carrotapault')\n",
      "(2, 3, 4, 3, 3, 'Carpet Physics')\n"
     ]
    }
   ],
   "source": [
    "## Objective is to write the title of the two projects\n",
    "for row in cur.execute(\"SELECT * FROM project_pairs JOIN student_projects ON project_pairs.project1_id=student_projects.student_id\"):\n",
    "    print(row)"
   ]
  },
  {
   "cell_type": "code",
   "execution_count": 148,
   "metadata": {},
   "outputs": [
    {
     "name": "stdout",
     "output_type": "stream",
     "text": [
      "(1, 1, 2, 1, 1, 'Carrotapault', 2, 2, 'Mad Hattery')\n",
      "(2, 3, 4, 3, 3, 'Carpet Physics', 4, 4, 'Hyena Habitats')\n"
     ]
    }
   ],
   "source": [
    "for row in cur.execute(\"SELECT * FROM project_pairs JOIN student_projects a ON project_pairs.project1_id=a.student_id JOIN student_projects b ON project_pairs.project2_id=b.student_id\"):\n",
    "    print(row)"
   ]
  },
  {
   "cell_type": "code",
   "execution_count": 149,
   "metadata": {},
   "outputs": [
    {
     "name": "stdout",
     "output_type": "stream",
     "text": [
      "('Carrotapault', 'Mad Hattery')\n",
      "('Carpet Physics', 'Hyena Habitats')\n"
     ]
    }
   ],
   "source": [
    "## Time for self-join\n",
    "for row in cur.execute(\"SELECT a.title,b.title FROM project_pairs JOIN student_projects a ON project_pairs.project1_id=a.student_id JOIN student_projects b ON project_pairs.project2_id=b.student_id\"):\n",
    "    print(row)"
   ]
  },
  {
   "cell_type": "code",
   "execution_count": 150,
   "metadata": {},
   "outputs": [],
   "source": [
    "con.commit()"
   ]
  },
  {
   "cell_type": "code",
   "execution_count": 151,
   "metadata": {},
   "outputs": [],
   "source": [
    "con.close()"
   ]
  },
  {
   "cell_type": "markdown",
   "metadata": {},
   "source": [
    "<a id=\"sec8\"></a>"
   ]
  },
  {
   "cell_type": "markdown",
   "metadata": {},
   "source": [
    "### Section 8:  Writing Transactions"
   ]
  },
  {
   "cell_type": "code",
   "execution_count": 153,
   "metadata": {},
   "outputs": [],
   "source": [
    "## Putting it all together\n",
    "import sqlite3\n",
    "con= sqlite3.connect('transaction_example.db') \n",
    "# Once you have connection, you can create a Cursor object and call its execute() method to perform SQL commands\n",
    "cur= con.cursor()"
   ]
  },
  {
   "cell_type": "code",
   "execution_count": 154,
   "metadata": {},
   "outputs": [],
   "source": [
    "cur.execute(\"begin\")\n",
    "try:\n",
    "    cur.execute(\"DROP TABLE IF EXISTS diary_logs\")\n",
    "    cur.execute(\"CREATE TABLE diary_logs (id INTEGER primary key, user_id INTEGER, date TEXT, content TEXT)\")\n",
    "    cur.execute(\"INSERT INTO diary_logs (user_id, date, content) VALUES (1, '2015-04-01', 'I had a horrible fight with OhNoesGuy and I buried my woes in 3 pounds of dark chocolate.')\")\n",
    "    cur.execute(\"INSERT INTO diary_logs (user_id, date, content) VALUES (1, '2015-04-02', 'We made up and now we are best friends forever and we celebrated with a tub of ice cream')\")\n",
    "    cur.execute(\"UPDATE diary_logs SET content= 'I had a horrible fight with OhNoesGuy' WHERE user_id=1 AND date= '2015-04-01'\")\n",
    "    #cur.execute(\"UPDATE diary_logs SET content= 'I had a fine day' WHERE user_id=1 AND date= '2015-04-01'\")\n",
    "    cur.execute(\"commit\")\n",
    "except con.Error:\n",
    "    print(\"failed!\")\n",
    "    cur.execute(\"rollback\")"
   ]
  },
  {
   "cell_type": "code",
   "execution_count": 155,
   "metadata": {},
   "outputs": [
    {
     "name": "stdout",
     "output_type": "stream",
     "text": [
      "(1, 1, '2015-04-01', 'I had a horrible fight with OhNoesGuy')\n",
      "(2, 1, '2015-04-02', 'We made up and now we are best friends forever and we celebrated with a tub of ice cream')\n"
     ]
    }
   ],
   "source": [
    "for row in cur.execute(\"SELECT * FROM diary_logs\"):\n",
    "    print(row)"
   ]
  },
  {
   "cell_type": "code",
   "execution_count": 156,
   "metadata": {},
   "outputs": [],
   "source": [
    "con.close()"
   ]
  },
  {
   "cell_type": "markdown",
   "metadata": {},
   "source": [
    "#### Alternative is to use connection objects as context managers; however this is more inefficient"
   ]
  },
  {
   "cell_type": "code",
   "execution_count": 157,
   "metadata": {},
   "outputs": [
    {
     "name": "stdout",
     "output_type": "stream",
     "text": [
      "(1, 1, '2015-04-01', 'I had a fine day')\n",
      "(2, 1, '2015-04-02', 'We made up and now we are best friends forever and we celebrated with a tub of ice cream')\n"
     ]
    }
   ],
   "source": [
    "import sqlite3\n",
    "\n",
    "filename= 'transaction_example.db'\n",
    "\n",
    "with sqlite3.connect(filename) as con:\n",
    "    cur= con.cursor()\n",
    "    sqls= [\n",
    "        \"DROP TABLE IF EXISTS diary_logs\",\n",
    "        \"CREATE TABLE diary_logs (id INTEGER primary key, user_id INTEGER, date TEXT, content TEXT)\",\n",
    "        \"INSERT INTO diary_logs (user_id, date, content) VALUES (1, '2015-04-01', 'I had a horrible fight with OhNoesGuy and I buried my woes in 3 pounds of dark chocolate.')\",\n",
    "        \"INSERT INTO diary_logs (user_id, date, content) VALUES (1, '2015-04-02', 'We made up and now we are best friends forever and we celebrated with a tub of ice cream')\"\n",
    "    ]\n",
    "    for sql in sqls:\n",
    "        cur.execute(sql)\n",
    "\n",
    "try:\n",
    "    with sqlite3.connect(filename) as con:\n",
    "        cur=con.cursor()\n",
    "        sqls= [\n",
    "            \"UPDATE diary_logs SET content= 'I had a horrible fight with OhNoesGuy' WHERE user_id=1 AND date= '2015-04-01'\",\n",
    "            \"UPDATE diary_logs SET content= 'I had a fine day' WHERE user_id=1 AND date= '2015-04-01'\",\n",
    "        ]\n",
    "        for sql in sqls:\n",
    "            cur.execute(sql)\n",
    "            \n",
    "except sqlite3.OperationalError as err:\n",
    "    print(err)\n",
    "    \n",
    "with sqlite3.connect(filename) as con:\n",
    "    cur= con.cursor()\n",
    "    for row in cur.execute(\"SELECT * FROM diary_logs\"):\n",
    "        print(row)"
   ]
  },
  {
   "cell_type": "code",
   "execution_count": 158,
   "metadata": {},
   "outputs": [],
   "source": [
    "con.close()"
   ]
  }
 ],
 "metadata": {
  "kernelspec": {
   "display_name": "Python 3",
   "language": "python",
   "name": "python3"
  },
  "language_info": {
   "codemirror_mode": {
    "name": "ipython",
    "version": 3
   },
   "file_extension": ".py",
   "mimetype": "text/x-python",
   "name": "python",
   "nbconvert_exporter": "python",
   "pygments_lexer": "ipython3",
   "version": "3.8.5"
  }
 },
 "nbformat": 4,
 "nbformat_minor": 4
}
